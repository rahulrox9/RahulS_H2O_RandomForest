{
 "cells": [
  {
   "cell_type": "markdown",
   "id": "ca6c2ade-0ecb-4d09-8971-03673e5b5156",
   "metadata": {
    "panel-layout": {
     "height": 114.6,
     "visible": true,
     "width": 100
    }
   },
   "source": [
    "<h2> H₂O Prediction in Icelandic Melts Using Random Forest Regression </h2>\n",
    "\n",
    "<h4>This notebook trains Random Forest models on seven oxide compositions (SiO₂, Al₂O₃, FeO, MgO, CaO, Na₂O, K₂O) of plagioclase-hosted, olivine-hosted and clinopyroxene-hosted melt inclusions to estimate H₂O content in volcanic glass samples and melt inclusions.</h4>\n",
    "\n",
    "<h5> \n",
    "    \n",
    "**Author:** Rahul Subbaraman\n",
    "\n",
    "**Affiliation:** University of Manchester \n",
    "\n",
    "**Email:** rahul.subbaraman@manchester.ac.uk \n",
    "\n",
    "**Date:** 05-08-2025 \n",
    "</h5>"
   ]
  },
  {
   "cell_type": "markdown",
   "id": "7e1194f5-d732-4a1b-a218-e4306a4425ec",
   "metadata": {
    "panel-layout": {
     "height": 44.0833,
     "visible": true,
     "width": 100
    }
   },
   "source": [
    "<h3> IMPORTS & SETUP </h3>"
   ]
  },
  {
   "cell_type": "markdown",
   "id": "a80b0779-3717-4b8b-ba4e-ffd0fed49624",
   "metadata": {
    "jp-MarkdownHeadingCollapsed": true,
    "panel-layout": {
     "height": 55.2,
     "visible": true,
     "width": 100
    }
   },
   "source": [
    "<h5>Update the file paths - <b>Sample_Train_data.csv</b> and <b>Sample_Test_data.csv</b> with the user file names."
   ]
  },
  {
   "cell_type": "code",
   "execution_count": 1,
   "id": "38cdead1-5219-4f97-ae50-bae573f88119",
   "metadata": {},
   "outputs": [
    {
     "name": "stdout",
     "output_type": "stream",
     "text": [
      "Imports and setup done.\n"
     ]
    }
   ],
   "source": [
    "import os\n",
    "import pandas as pd\n",
    "import matplotlib.pyplot as plt\n",
    "from joblib import dump\n",
    "from sklearn.ensemble import RandomForestRegressor\n",
    "from sklearn.metrics import r2_score\n",
    "\n",
    "# ### Constants\n",
    "Oxides = ['SiO2', 'Al2O3', 'FeO', 'MgO', 'CaO', 'Na2O', 'K2O']\n",
    "train_data_path = os.path.join('Imports', \"Sample_Train_data.csv\")\n",
    "test_data_path = os.path.join('Imports', \"Sample_Test_data.csv\")\n",
    "Output_CSV = os.path.join('Exports', 'Multivar_Regr_H2O_with_RF.csv')\n",
    "Model_file = os.path.join('Exports', 'best_rf_model.joblib')\n",
    "\n",
    "missing_files = []\n",
    "if not os.path.isfile(train_data_path):\n",
    "    missing_files.append(\"Sample_Train_data.csv\")\n",
    "if not os.path.isfile(test_data_path):\n",
    "    missing_files.append(\"Sample_Test_data.csv\")\n",
    "\n",
    "if not missing_files:\n",
    "    print(\"Imports and setup done.\")\n",
    "else:\n",
    "    print(\"Missing file(s):\", \", \".join(missing_files))"
   ]
  },
  {
   "cell_type": "markdown",
   "id": "adbcd10a-8b56-4797-b0fe-abb0c6483116",
   "metadata": {},
   "source": [
    "<h3> LOADING DATASETS </h3>"
   ]
  },
  {
   "cell_type": "markdown",
   "id": "810380b5-099d-4844-970d-e1f5b91ab0aa",
   "metadata": {},
   "source": [
    "<h5> Ensure the format of the training file matches <b>Sample_Train_Data.csv</b> and test file matches <b>Sample_Test_Data.csv</b></h5>"
   ]
  },
  {
   "cell_type": "markdown",
   "id": "42ceed45-ceb9-45cd-9fc4-5c0136359ee2",
   "metadata": {
    "panel-layout": {
     "height": 44.0833,
     "visible": true,
     "width": 100
    }
   },
   "source": [
    "<h4> LOAD TRAINING DATA </h4>"
   ]
  },
  {
   "cell_type": "markdown",
   "id": "370952d2-5aea-4808-b022-8076fc1fd009",
   "metadata": {
    "panel-layout": {
     "height": 55.2,
     "visible": true,
     "width": 100
    }
   },
   "source": [
    "<h5>This model is not supposed to be calibrated with Matrix Glass. If the data has Matrix Glass, uncomment the 2nd line below.</h5>"
   ]
  },
  {
   "cell_type": "code",
   "execution_count": 2,
   "id": "55020c0c-043d-4bc6-b75e-9ec9817dfb89",
   "metadata": {
    "panel-layout": {
     "height": 0,
     "visible": true,
     "width": 100
    }
   },
   "outputs": [
    {
     "name": "stdout",
     "output_type": "stream",
     "text": [
      "Loaded training dataset with 7 data points after filtering.\n"
     ]
    }
   ],
   "source": [
    "df = pd.read_csv(train_data_path, low_memory=False)\n",
    "# Uncomment the line below, if appropriate\n",
    "#df = df[df['TYPE'] != 'Matrix Glass']  # exclude matrix glass from training.\n",
    "print(f\"Loaded training dataset with {len(df)} data points after filtering.\")"
   ]
  },
  {
   "cell_type": "markdown",
   "id": "65d69821-8359-4b06-b004-4b5283b8bee1",
   "metadata": {},
   "source": [
    "<h4> LOAD TESTING DATA </h4>"
   ]
  },
  {
   "cell_type": "code",
   "execution_count": 4,
   "id": "c8e67c4c-f864-47e2-9f7c-78c75ec92f47",
   "metadata": {
    "panel-layout": {
     "height": 0,
     "visible": true,
     "width": 100
    }
   },
   "outputs": [
    {
     "name": "stdout",
     "output_type": "stream",
     "text": [
      "Loaded testing dataset with 4 data points.\n"
     ]
    }
   ],
   "source": [
    "gf = pd.read_csv(test_data_path, low_memory=False)\n",
    "print(f\"Loaded testing dataset with {len(gf)} data points.\")"
   ]
  },
  {
   "cell_type": "markdown",
   "id": "76d5843b-706d-48dc-82ec-91f2b73a7ec8",
   "metadata": {},
   "source": [
    "<h3> RANDOM FOREST REGRESSION </h3>"
   ]
  },
  {
   "cell_type": "markdown",
   "id": "c7b5faad-9a13-4ad9-85f3-54a33cd5b2aa",
   "metadata": {},
   "source": [
    "<h4> DEFINE REGRESSION FUNCTION </h4>"
   ]
  },
  {
   "cell_type": "code",
   "execution_count": 5,
   "id": "aa918b04-bcc1-4835-ab05-b66879e4fde5",
   "metadata": {
    "panel-layout": {
     "height": 0,
     "visible": true,
     "width": 100
    }
   },
   "outputs": [
    {
     "name": "stdout",
     "output_type": "stream",
     "text": [
      "Regression function defined\n"
     ]
    }
   ],
   "source": [
    "def run_regression(group, location, typ, model_label, results):\n",
    "    group_clean = group.dropna(subset=Oxides + ['H2O'])\n",
    "    if len(group_clean) < 50:\n",
    "        return\n",
    "\n",
    "    X = group_clean[Oxides]\n",
    "    y = group_clean['H2O']\n",
    "\n",
    "    model = RandomForestRegressor(n_estimators=100, random_state=42)\n",
    "    model.fit(X, y)\n",
    "    y_pred = model.predict(X)\n",
    "    r2 = r2_score(y, y_pred)\n",
    "\n",
    "    results.append({\n",
    "        'Location': location,\n",
    "        'Type': typ,\n",
    "        'Model': model_label,\n",
    "        'N': len(y),\n",
    "        'R2': r2,\n",
    "        **dict(zip(Oxides, model.feature_importances_))\n",
    "    })\n",
    "print('Regression function defined')"
   ]
  },
  {
   "cell_type": "markdown",
   "id": "64d03c67-f251-4213-891c-920eaf2c91c5",
   "metadata": {},
   "source": [
    "<h4> PERFORM REGRESSION BY LOCATION AND TYPE GROUPINGS </h4>"
   ]
  },
  {
   "cell_type": "markdown",
   "id": "d3a71d2e-7f1b-46fb-a243-5137943abec9",
   "metadata": {},
   "source": [
    "<h5>The regression is performed across different groupings of sample types and locations, identifying the best model based on <strong>R² values</strong> and the <strong>number of samples</strong>.</h5>"
   ]
  },
  {
   "cell_type": "code",
   "execution_count": 8,
   "id": "4d333cd0-1f0d-4207-b2c8-a4bac929eb73",
   "metadata": {
    "panel-layout": {
     "height": 0,
     "visible": true,
     "width": 100
    },
    "scrolled": true
   },
   "outputs": [
    {
     "name": "stdout",
     "output_type": "stream",
     "text": [
      "[]\n"
     ]
    },
    {
     "ename": "KeyError",
     "evalue": "'R2'",
     "output_type": "error",
     "traceback": [
      "\u001b[1;31m---------------------------------------------------------------------------\u001b[0m",
      "\u001b[1;31mKeyError\u001b[0m                                  Traceback (most recent call last)",
      "\u001b[1;32m~\\AppData\\Local\\Temp\\ipykernel_18976\\4113238089.py\u001b[0m in \u001b[0;36m?\u001b[1;34m()\u001b[0m\n\u001b[0;32m     17\u001b[0m \u001b[0mprint\u001b[0m\u001b[1;33m(\u001b[0m\u001b[0mresults\u001b[0m\u001b[1;33m[\u001b[0m\u001b[1;33m:\u001b[0m\u001b[1;36m3\u001b[0m\u001b[1;33m]\u001b[0m\u001b[1;33m)\u001b[0m\u001b[1;33m\u001b[0m\u001b[1;33m\u001b[0m\u001b[0m\n\u001b[0;32m     18\u001b[0m \u001b[1;33m\u001b[0m\u001b[0m\n\u001b[0;32m     19\u001b[0m \u001b[1;31m# Compile results\u001b[0m\u001b[1;33m\u001b[0m\u001b[1;33m\u001b[0m\u001b[0m\n\u001b[0;32m     20\u001b[0m \u001b[0mresults_df\u001b[0m \u001b[1;33m=\u001b[0m \u001b[0mpd\u001b[0m\u001b[1;33m.\u001b[0m\u001b[0mDataFrame\u001b[0m\u001b[1;33m(\u001b[0m\u001b[0mresults\u001b[0m\u001b[1;33m)\u001b[0m\u001b[1;33m\u001b[0m\u001b[1;33m\u001b[0m\u001b[0m\n\u001b[1;32m---> 21\u001b[1;33m \u001b[0mresults_df\u001b[0m \u001b[1;33m=\u001b[0m \u001b[0mresults_df\u001b[0m\u001b[1;33m.\u001b[0m\u001b[0msort_values\u001b[0m\u001b[1;33m(\u001b[0m\u001b[0mby\u001b[0m\u001b[1;33m=\u001b[0m\u001b[1;33m[\u001b[0m\u001b[1;34m'R2'\u001b[0m\u001b[1;33m,\u001b[0m \u001b[1;34m'N'\u001b[0m\u001b[1;33m]\u001b[0m\u001b[1;33m,\u001b[0m \u001b[0mascending\u001b[0m\u001b[1;33m=\u001b[0m\u001b[1;33m[\u001b[0m\u001b[1;32mFalse\u001b[0m\u001b[1;33m,\u001b[0m \u001b[1;32mFalse\u001b[0m\u001b[1;33m]\u001b[0m\u001b[1;33m)\u001b[0m\u001b[1;33m\u001b[0m\u001b[1;33m\u001b[0m\u001b[0m\n\u001b[0m\u001b[0;32m     22\u001b[0m \u001b[0mresults_df\u001b[0m\u001b[1;33m.\u001b[0m\u001b[0mhead\u001b[0m\u001b[1;33m(\u001b[0m\u001b[1;33m)\u001b[0m\u001b[1;33m\u001b[0m\u001b[1;33m\u001b[0m\u001b[0m\n\u001b[0;32m     23\u001b[0m \u001b[1;33m\u001b[0m\u001b[0m\n\u001b[0;32m     24\u001b[0m \u001b[0mprint\u001b[0m\u001b[1;33m(\u001b[0m\u001b[1;34m'Regression performed on the reference data'\u001b[0m\u001b[1;33m)\u001b[0m\u001b[1;33m\u001b[0m\u001b[1;33m\u001b[0m\u001b[0m\n",
      "\u001b[1;32mC:\\ProgramData\\anaconda3\\Lib\\site-packages\\pandas\\core\\frame.py\u001b[0m in \u001b[0;36m?\u001b[1;34m(self, by, axis, ascending, inplace, kind, na_position, ignore_index, key)\u001b[0m\n\u001b[0;32m   7168\u001b[0m                 \u001b[1;33mf\"\u001b[0m\u001b[1;33mLength of ascending (\u001b[0m\u001b[1;33m{\u001b[0m\u001b[0mlen\u001b[0m\u001b[1;33m(\u001b[0m\u001b[0mascending\u001b[0m\u001b[1;33m)\u001b[0m\u001b[1;33m}\u001b[0m\u001b[1;33m)\u001b[0m\u001b[1;33m\"\u001b[0m  \u001b[1;31m# type: ignore[arg-type]\u001b[0m\u001b[1;33m\u001b[0m\u001b[1;33m\u001b[0m\u001b[0m\n\u001b[0;32m   7169\u001b[0m                 \u001b[1;33mf\"\u001b[0m\u001b[1;33m != length of by (\u001b[0m\u001b[1;33m{\u001b[0m\u001b[0mlen\u001b[0m\u001b[1;33m(\u001b[0m\u001b[0mby\u001b[0m\u001b[1;33m)\u001b[0m\u001b[1;33m}\u001b[0m\u001b[1;33m)\u001b[0m\u001b[1;33m\"\u001b[0m\u001b[1;33m\u001b[0m\u001b[1;33m\u001b[0m\u001b[0m\n\u001b[0;32m   7170\u001b[0m             \u001b[1;33m)\u001b[0m\u001b[1;33m\u001b[0m\u001b[1;33m\u001b[0m\u001b[0m\n\u001b[0;32m   7171\u001b[0m         \u001b[1;32mif\u001b[0m \u001b[0mlen\u001b[0m\u001b[1;33m(\u001b[0m\u001b[0mby\u001b[0m\u001b[1;33m)\u001b[0m \u001b[1;33m>\u001b[0m \u001b[1;36m1\u001b[0m\u001b[1;33m:\u001b[0m\u001b[1;33m\u001b[0m\u001b[1;33m\u001b[0m\u001b[0m\n\u001b[1;32m-> 7172\u001b[1;33m             \u001b[0mkeys\u001b[0m \u001b[1;33m=\u001b[0m \u001b[1;33m[\u001b[0m\u001b[0mself\u001b[0m\u001b[1;33m.\u001b[0m\u001b[0m_get_label_or_level_values\u001b[0m\u001b[1;33m(\u001b[0m\u001b[0mx\u001b[0m\u001b[1;33m,\u001b[0m \u001b[0maxis\u001b[0m\u001b[1;33m=\u001b[0m\u001b[0maxis\u001b[0m\u001b[1;33m)\u001b[0m \u001b[1;32mfor\u001b[0m \u001b[0mx\u001b[0m \u001b[1;32min\u001b[0m \u001b[0mby\u001b[0m\u001b[1;33m]\u001b[0m\u001b[1;33m\u001b[0m\u001b[1;33m\u001b[0m\u001b[0m\n\u001b[0m\u001b[0;32m   7173\u001b[0m \u001b[1;33m\u001b[0m\u001b[0m\n\u001b[0;32m   7174\u001b[0m             \u001b[1;31m# need to rewrap columns in Series to apply key function\u001b[0m\u001b[1;33m\u001b[0m\u001b[1;33m\u001b[0m\u001b[0m\n\u001b[0;32m   7175\u001b[0m             \u001b[1;32mif\u001b[0m \u001b[0mkey\u001b[0m \u001b[1;32mis\u001b[0m \u001b[1;32mnot\u001b[0m \u001b[1;32mNone\u001b[0m\u001b[1;33m:\u001b[0m\u001b[1;33m\u001b[0m\u001b[1;33m\u001b[0m\u001b[0m\n",
      "\u001b[1;32mC:\\ProgramData\\anaconda3\\Lib\\site-packages\\pandas\\core\\generic.py\u001b[0m in \u001b[0;36m?\u001b[1;34m(self, key, axis)\u001b[0m\n\u001b[0;32m   1907\u001b[0m             \u001b[0mvalues\u001b[0m \u001b[1;33m=\u001b[0m \u001b[0mself\u001b[0m\u001b[1;33m.\u001b[0m\u001b[0mxs\u001b[0m\u001b[1;33m(\u001b[0m\u001b[0mkey\u001b[0m\u001b[1;33m,\u001b[0m \u001b[0maxis\u001b[0m\u001b[1;33m=\u001b[0m\u001b[0mother_axes\u001b[0m\u001b[1;33m[\u001b[0m\u001b[1;36m0\u001b[0m\u001b[1;33m]\u001b[0m\u001b[1;33m)\u001b[0m\u001b[1;33m.\u001b[0m\u001b[0m_values\u001b[0m\u001b[1;33m\u001b[0m\u001b[1;33m\u001b[0m\u001b[0m\n\u001b[0;32m   1908\u001b[0m         \u001b[1;32melif\u001b[0m \u001b[0mself\u001b[0m\u001b[1;33m.\u001b[0m\u001b[0m_is_level_reference\u001b[0m\u001b[1;33m(\u001b[0m\u001b[0mkey\u001b[0m\u001b[1;33m,\u001b[0m \u001b[0maxis\u001b[0m\u001b[1;33m=\u001b[0m\u001b[0maxis\u001b[0m\u001b[1;33m)\u001b[0m\u001b[1;33m:\u001b[0m\u001b[1;33m\u001b[0m\u001b[1;33m\u001b[0m\u001b[0m\n\u001b[0;32m   1909\u001b[0m             \u001b[0mvalues\u001b[0m \u001b[1;33m=\u001b[0m \u001b[0mself\u001b[0m\u001b[1;33m.\u001b[0m\u001b[0maxes\u001b[0m\u001b[1;33m[\u001b[0m\u001b[0maxis\u001b[0m\u001b[1;33m]\u001b[0m\u001b[1;33m.\u001b[0m\u001b[0mget_level_values\u001b[0m\u001b[1;33m(\u001b[0m\u001b[0mkey\u001b[0m\u001b[1;33m)\u001b[0m\u001b[1;33m.\u001b[0m\u001b[0m_values\u001b[0m\u001b[1;33m\u001b[0m\u001b[1;33m\u001b[0m\u001b[0m\n\u001b[0;32m   1910\u001b[0m         \u001b[1;32melse\u001b[0m\u001b[1;33m:\u001b[0m\u001b[1;33m\u001b[0m\u001b[1;33m\u001b[0m\u001b[0m\n\u001b[1;32m-> 1911\u001b[1;33m             \u001b[1;32mraise\u001b[0m \u001b[0mKeyError\u001b[0m\u001b[1;33m(\u001b[0m\u001b[0mkey\u001b[0m\u001b[1;33m)\u001b[0m\u001b[1;33m\u001b[0m\u001b[1;33m\u001b[0m\u001b[0m\n\u001b[0m\u001b[0;32m   1912\u001b[0m \u001b[1;33m\u001b[0m\u001b[0m\n\u001b[0;32m   1913\u001b[0m         \u001b[1;31m# Check for duplicates\u001b[0m\u001b[1;33m\u001b[0m\u001b[1;33m\u001b[0m\u001b[0m\n\u001b[0;32m   1914\u001b[0m         \u001b[1;32mif\u001b[0m \u001b[0mvalues\u001b[0m\u001b[1;33m.\u001b[0m\u001b[0mndim\u001b[0m \u001b[1;33m>\u001b[0m \u001b[1;36m1\u001b[0m\u001b[1;33m:\u001b[0m\u001b[1;33m\u001b[0m\u001b[1;33m\u001b[0m\u001b[0m\n",
      "\u001b[1;31mKeyError\u001b[0m: 'R2'"
     ]
    }
   ],
   "source": [
    "results = []\n",
    "\n",
    "# By LOCATION + TYPE\n",
    "temp = df.groupby(['LOCATION', 'TYPE'])\n",
    "for (loc, typ), group in temp:\n",
    "    run_regression(group, loc, typ, 'Multivariate (Loc+Type)', results)\n",
    "\n",
    "# By TYPE only\n",
    "temp = df.groupby('TYPE')\n",
    "for typ, group in temp:\n",
    "    run_regression(group, 'All', typ, 'Multivariate (By TYPE)', results)\n",
    "\n",
    "# By LOCATION only\n",
    "temp = df.groupby('LOCATION')\n",
    "for loc, group in temp:\n",
    "    run_regression(group, loc, 'All', 'Multivariate (By LOCATION)', results)\n",
    "print(results[:3])\n",
    "\n",
    "# Compile results\n",
    "results_df = pd.DataFrame(results)\n",
    "results_df = results_df.sort_values(by=['R2', 'N'], ascending=[False, False])\n",
    "results_df.head()\n",
    "\n",
    "print('Regression performed on the reference data')"
   ]
  },
  {
   "cell_type": "markdown",
   "id": "f6bc7bf3-13cc-47c7-8664-7f8c1102878d",
   "metadata": {},
   "source": [
    "<h4> RETRAIN BEST MODEL </h4>"
   ]
  },
  {
   "cell_type": "code",
   "execution_count": null,
   "id": "a32895c6-1e07-421b-8a6f-6a07f7d7fe52",
   "metadata": {
    "panel-layout": {
     "height": 0,
     "visible": true,
     "width": 100
    }
   },
   "outputs": [],
   "source": [
    "best_row = results_df.iloc[0]\n",
    "print(f\"Best model: Location = {best_row['Location']}, Type = {best_row['Type']}, R2 = {best_row['R2']:.3f}\")\n",
    "\n",
    "if best_row['Location'] == 'All':\n",
    "    loc_filter = df['LOCATION'].notnull()\n",
    "else:\n",
    "    loc_filter = df['LOCATION'] == best_row['Location']\n",
    "\n",
    "if best_row['Type'] == 'All':\n",
    "    typ_filter = df['TYPE'].notnull()\n",
    "else:\n",
    "    typ_filter = df['TYPE'] == best_row['Type']\n",
    "\n",
    "best_group = df[loc_filter & typ_filter].dropna(subset=Oxides + ['H2O'])\n",
    "X_train = best_group[Oxides]\n",
    "y_train = best_group['H2O']\n",
    "\n",
    "best_model = RandomForestRegressor(n_estimators=100, random_state=42)\n",
    "best_model.fit(X_train, y_train)\n",
    "print(\"Best model retrained.\")"
   ]
  },
  {
   "cell_type": "markdown",
   "id": "4180894f-873e-454f-abc4-1ef500391dc4",
   "metadata": {
    "panel-layout": {
     "height": 51.15,
     "visible": true,
     "width": 100
    }
   },
   "source": [
    "<h5> Run the cells below as applicable </h5>"
   ]
  },
  {
   "cell_type": "markdown",
   "id": "5b5c06b7-4a64-4a05-b1fe-9ce8b1364f94",
   "metadata": {},
   "source": [
    "<h5> (a) Predict H2O on Matrix Glass Data </h5>"
   ]
  },
  {
   "cell_type": "code",
   "execution_count": null,
   "id": "d6ce9eb7-1a44-48bd-aaab-36b023a2ad52",
   "metadata": {
    "panel-layout": {
     "height": 0,
     "visible": true,
     "width": 100
    }
   },
   "outputs": [],
   "source": [
    "matrix = gf[gf['PHASE'] == 'Matrix Glass'].copy()\n",
    "matrix['H2O'] = best_model.predict(matrix[Oxides])\n",
    "print('H2O Content of Matrix Glass is calculated')"
   ]
  },
  {
   "cell_type": "markdown",
   "id": "503b95ec-6df3-4c59-8175-a1e624dd6de8",
   "metadata": {},
   "source": [
    "<h5> (b) Predict H2O on Plagioclase-hosted Melt Inclusions (PHMI) Data </h5>"
   ]
  },
  {
   "cell_type": "code",
   "execution_count": null,
   "id": "7f6dd41c-3607-45d4-b4e2-11ae716b037c",
   "metadata": {
    "panel-layout": {
     "height": 0,
     "visible": true,
     "width": 100
    }
   },
   "outputs": [],
   "source": [
    "PHMI = gf[gf['PHASE'] == 'PHMI'].copy()\n",
    "PHMI['H2O'] = best_model.predict(PHMI[Oxides])\n",
    "print('H2O Content of PHMI is calculated')"
   ]
  },
  {
   "cell_type": "markdown",
   "id": "67eb51f0-1e15-4baf-8f77-83e431b2fec4",
   "metadata": {},
   "source": [
    "<h5> (c) Predict H2O on Olivine-hosted Melt Inclusions (OHMI) Data </h5>"
   ]
  },
  {
   "cell_type": "code",
   "execution_count": null,
   "id": "f08cd4d3-0a03-4a7c-95e9-4c9714bde8bf",
   "metadata": {
    "panel-layout": {
     "height": 0,
     "visible": true,
     "width": 100
    }
   },
   "outputs": [],
   "source": [
    "OHMI = gf[gf['PHASE'] == 'OHMI'].copy()\n",
    "OHMI['H2O'] = best_model.predict(OHMI[Oxides])\n",
    "print('H2O Content of OHMI is calculated')"
   ]
  },
  {
   "cell_type": "markdown",
   "id": "be8c4f8b-6955-41a1-8b5a-04b85009553c",
   "metadata": {},
   "source": [
    "<h5> (d) Predict H2O on Clinopyroxene-hosted Melt Inclusions (CHMI) Data </h5>"
   ]
  },
  {
   "cell_type": "code",
   "execution_count": null,
   "id": "0f06f8c4-b397-4058-91f9-ea3f5f9134ba",
   "metadata": {
    "panel-layout": {
     "height": 0,
     "visible": true,
     "width": 100
    }
   },
   "outputs": [],
   "source": [
    "CHMI = gf[gf['PHASE'] == 'CHMI'].copy()\n",
    "CHMI['H2O'] = best_model.predict(CHMI[Oxides])\n",
    "print('H2O Content of CHMI is calculated')"
   ]
  },
  {
   "cell_type": "markdown",
   "id": "8fa81ac3-64d4-441d-915a-507fe70bd345",
   "metadata": {},
   "source": [
    "<h4> EXPORT RESULTS </h4>"
   ]
  },
  {
   "cell_type": "code",
   "execution_count": null,
   "id": "4ccb9f08-e864-4888-96be-7acef7e2b161",
   "metadata": {
    "panel-layout": {
     "height": 874,
     "visible": true,
     "width": 100
    }
   },
   "outputs": [],
   "source": [
    "os.makedirs('Exports', exist_ok=True)\n",
    "results_df.to_csv(Output_CSV, index=False)\n",
    "print(f\"Results saved to: {Output_CSV}\")\n",
    "dump(best_model, Model_file)\n",
    "print(f\"Best model saved to: {Model_file}\")"
   ]
  }
 ],
 "metadata": {
  "kernelspec": {
   "display_name": "Python 3 (ipykernel)",
   "language": "python",
   "name": "python3"
  },
  "language_info": {
   "codemirror_mode": {
    "name": "ipython",
    "version": 3
   },
   "file_extension": ".py",
   "mimetype": "text/x-python",
   "name": "python",
   "nbconvert_exporter": "python",
   "pygments_lexer": "ipython3",
   "version": "3.12.7"
  },
  "panel-cell-order": [
   "ca6c2ade-0ecb-4d09-8971-03673e5b5156",
   "55020c0c-043d-4bc6-b75e-9ec9817dfb89",
   "aa918b04-bcc1-4835-ab05-b66879e4fde5",
   "4d333cd0-1f0d-4207-b2c8-a4bac929eb73",
   "1e13c333-31e4-4f96-b58a-19e352aa55a2",
   "4ccb9f08-e864-4888-96be-7acef7e2b161",
   "7e1194f5-d732-4a1b-a218-e4306a4425ec",
   "42ceed45-ceb9-45cd-9fc4-5c0136359ee2",
   "a80b0779-3717-4b8b-ba4e-ffd0fed49624",
   "c8e67c4c-f864-47e2-9f7c-78c75ec92f47",
   "4180894f-873e-454f-abc4-1ef500391dc4",
   "d6ce9eb7-1a44-48bd-aaab-36b023a2ad52",
   "7f6dd41c-3607-45d4-b4e2-11ae716b037c",
   "f08cd4d3-0a03-4a7c-95e9-4c9714bde8bf",
   "0f06f8c4-b397-4058-91f9-ea3f5f9134ba"
  ]
 },
 "nbformat": 4,
 "nbformat_minor": 5
}
